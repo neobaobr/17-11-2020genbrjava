{
  "nbformat": 4,
  "nbformat_minor": 0,
  "metadata": {
    "colab": {
      "name": "Untitled0.ipynb",
      "provenance": [],
      "authorship_tag": "ABX9TyOX9adScPHomrEqL2jr5djd",
      "include_colab_link": true
    },
    "kernelspec": {
      "name": "python3",
      "display_name": "Python 3"
    },
    "language_info": {
      "name": "python"
    }
  },
  "cells": [
    {
      "cell_type": "markdown",
      "metadata": {
        "id": "view-in-github",
        "colab_type": "text"
      },
      "source": [
        "<a href=\"https://colab.research.google.com/github/neobaobr/17-11-2020genbrjava/blob/main/resolucaoex1pythonday2.ipynb\" target=\"_parent\"><img src=\"https://colab.research.google.com/assets/colab-badge.svg\" alt=\"Open In Colab\"/></a>"
      ]
    },
    {
      "cell_type": "code",
      "metadata": {
        "id": "q9RiqwR_4w2s"
      },
      "source": [
        "import math \n",
        "d350={}\n",
        "d300={}\n",
        "d250={}\n",
        "lista350=[]\n",
        "lista250=[]\n",
        "lista300=[]\n",
        "g=9.81\n",
        "beta=1.589\n",
        "v250=250\n",
        "v300=300\n",
        "v350=350\n",
        "\n",
        "for alfa in range (15,76,1):\n",
        " d350['alcance']= float(math.tan(math.radians(alfa)) * (2*(v350**2)*(math.cos(math.radians(alfa))**2)) / (g*beta))\n",
        " d350['alfa']= alfa\n",
        " d350['velocidade']=v350\n",
        " lista350.append(d350.copy())\n",
        "\n",
        "\n",
        " d300['alcance']= float(math.tan(math.radians(alfa)) * (2*(v300**2)*(math.cos(math.radians(alfa))**2)) / (g*beta))\n",
        " d300['alfa']= alfa\n",
        " d300['velocidade']=v300\n",
        " lista300.append(d300.copy())\n",
        "\n",
        "\n",
        " d250['alcance']= float(math.tan(math.radians(alfa)) * (2*(v250**2)*(math.cos(math.radians(alfa))**2)) / (g*beta))\n",
        " d250['alfa']= alfa\n",
        " d250['velocidade']=v250\n",
        " lista250.append(d250.copy())\n",
        "\n",
        "\n",
        "\n",
        "print(lista250)\n",
        "print()\n",
        "print(lista300)\n",
        "print()\n",
        "print(lista350)\n",
        "\n",
        "\n"
      ],
      "execution_count": null,
      "outputs": []
    },
    {
      "cell_type": "code",
      "metadata": {
        "id": "BwPx6V6w4yEb"
      },
      "source": [
        "\n",
        "#menores e maiores ranges\n",
        "lista2=[]\n",
        "for r in range (len(lista250)):\n",
        " lista2.append(lista250[r]['alcance'])\n",
        "\n",
        "max250=max(lista2)\n",
        "min250=min(lista2)\n",
        "\n",
        "lista2=[]\n",
        "for r in range (len(lista300)):\n",
        " lista2.append(lista300[r]['alcance'])\n",
        "\n",
        "max300=max(lista2)\n",
        "min300=min(lista2)\n",
        "\n",
        "lista2=[]\n",
        "for r in range (len(lista350)):\n",
        " lista2.append(lista350[r]['alcance'])\n",
        "\n",
        "max350=max(lista2)\n",
        "min350=min(lista2)\n",
        "\n",
        "print(\"alcance min {} . alcance maximo {} velocidade 250m/s \".format(min250,max250))\n",
        "\n",
        "\n",
        "print(\"alcance min {} . alcance maximo {} velocidade 300m/s \".format(min300,max300))\n",
        "print(\"alcance min {} . alcance maximo {} velocidade 350m/s \".format(min350,max350))\n",
        " #####\n",
        "print('outro metodo')\n",
        "print()\n",
        "print(\"alcance max \", max(lista250,key=lambda x: x['alcance']))\n",
        " \n",
        "print(\"alcance min \", min(lista250,key=lambda x: x['alcance']))\n",
        "\n",
        "\n",
        "print(\"alcance max \", max(lista300,key=lambda x: x['alcance']))\n",
        " \n",
        "print(\"alcance min \", min(lista300,key=lambda x: x['alcance']))\n",
        "\n",
        "print(\"alcance max \", max(lista350,key=lambda x: x['alcance']))\n",
        " \n",
        "print(\"alcance min \", min(lista350,key=lambda x: x['alcance']))\n"
      ],
      "execution_count": null,
      "outputs": []
    },
    {
      "cell_type": "code",
      "metadata": {
        "id": "39oTSaXJ4x1e"
      },
      "source": [
        "v300=300\n",
        "alfa=30\n",
        "beta=(math.tan(math.radians(alfa)) * (2*(v300**2)*(math.cos(math.radians(alfa))**2)) / (g*4500))\n",
        "print(beta)\n",
        " "
      ],
      "execution_count": null,
      "outputs": []
    }
  ]
}